{
 "cells": [
  {
   "cell_type": "code",
   "execution_count": 12,
   "metadata": {},
   "outputs": [],
   "source": [
    "import pandas as pd\n",
    "import numpy as np\n",
    "import collections"
   ]
  },
  {
   "cell_type": "code",
   "execution_count": 4,
   "metadata": {},
   "outputs": [],
   "source": [
    "# Import do CSV\n",
    "dataset = pd.read_csv('./cocaine-dataset/dream_market_cocaine_listings.csv')"
   ]
  },
  {
   "cell_type": "code",
   "execution_count": null,
   "metadata": {
    "scrolled": false
   },
   "outputs": [],
   "source": [
    "dataset.head()"
   ]
  },
  {
   "cell_type": "code",
   "execution_count": 5,
   "metadata": {},
   "outputs": [],
   "source": [
    "#Remoção de colunas\n",
    "dataset = dataset.drop(columns=['product_title','grams','escrow','product_link','vendor_link','vendor_name',])"
   ]
  },
  {
   "cell_type": "code",
   "execution_count": 6,
   "metadata": {},
   "outputs": [],
   "source": [
    "# Seleciona apenas linhas com transações acima de 99\n",
    "dataset = dataset[dataset['successful_transactions'] > 99]"
   ]
  },
  {
   "cell_type": "code",
   "execution_count": 43,
   "metadata": {
    "scrolled": true
   },
   "outputs": [
    {
     "data": {
      "text/plain": [
       "Index(['Unnamed: 0', 'ships_from_to', 'quality', 'btc_price', 'cost_per_gram',\n",
       "       'cost_per_gram_pure', 'successful_transactions', 'rating', 'ships_from',\n",
       "       'ships_to', 'ships_to_US', 'ships_from_US', 'ships_to_NL',\n",
       "       'ships_from_NL', 'ships_to_FR', 'ships_from_FR', 'ships_to_GB',\n",
       "       'ships_from_GB', 'ships_to_CA', 'ships_from_CA', 'ships_to_DE',\n",
       "       'ships_from_DE', 'ships_to_AU', 'ships_from_AU', 'ships_to_EU',\n",
       "       'ships_from_EU', 'ships_to_ES', 'ships_from_ES', 'ships_to_N. America',\n",
       "       'ships_from_N. America', 'ships_to_BE', 'ships_from_BE', 'ships_to_WW',\n",
       "       'ships_from_WW', 'ships_to_SI', 'ships_from_SI', 'ships_to_IT',\n",
       "       'ships_from_IT', 'ships_to_DK', 'ships_from_DK', 'ships_to_S. America',\n",
       "       'ships_from_S. America', 'ships_to_CH', 'ships_from_CH', 'ships_to_BR',\n",
       "       'ships_from_BR', 'ships_to_CZ', 'ships_from_CZ', 'ships_to_SE',\n",
       "       'ships_from_SE', 'ships_to_CO', 'ships_from_CO', 'ships_to_CN',\n",
       "       'ships_from_CN', 'ships_to_PL', 'ships_from_PL', 'ships_to_GR',\n",
       "       'ships_from_GR'],\n",
       "      dtype='object')"
      ]
     },
     "execution_count": 43,
     "metadata": {},
     "output_type": "execute_result"
    }
   ],
   "source": [
    "dataset.columns"
   ]
  },
  {
   "cell_type": "code",
   "execution_count": 7,
   "metadata": {},
   "outputs": [],
   "source": [
    "class Node(object):\n",
    "    def __init__(self, name):\n",
    "        self.nome = name\n",
    "        self.vizinhos = []\n",
    "    \n",
    "\n",
    "def encontra_objeto(nome, grafo):\n",
    "    for i in range(len(grafo)):\n",
    "        if grafo[i].nome == nome:\n",
    "            return grafo[i]"
   ]
  },
  {
   "cell_type": "code",
   "execution_count": 8,
   "metadata": {},
   "outputs": [],
   "source": [
    "local = [\n",
    "    'US',\n",
    "    'NL',\n",
    "    'FR',\n",
    "    'GB',\n",
    "    'CA',\n",
    "    'DE',\n",
    "    'AU',\n",
    "    'EU',\n",
    "    'ES',\n",
    "    'N. America',\n",
    "    'BE',\n",
    "    'WW',\n",
    "    'SI',\n",
    "    'IT',\n",
    "    'DK',\n",
    "    'S. America',\n",
    "    'CH',\n",
    "    'BR',\n",
    "    'CZ',\n",
    "    'SE',\n",
    "    'CO',\n",
    "    'CN',\n",
    "    'PL',\n",
    "    'GR',\n",
    "]\n",
    "grafo = []\n",
    "vizinhos = []\n",
    "\n",
    "# Cria nós para cada localização\n",
    "for i in range(len(local)):\n",
    "    vizinhos = []\n",
    "    nome = local[i] \n",
    "    no = Node(nome)\n",
    "    if not grafo:\n",
    "        grafo.append(no)\n",
    "    if not any(x.nome == no.nome for x in grafo):\n",
    "        grafo.append(no)\n",
    "       \n",
    "    \n",
    "colunas = list(dataset.columns.values)\n",
    "colunas = colunas[10:]\n",
    "\n",
    "# Cria as conexões com vizinhos\n",
    "for i in range(len(grafo)):\n",
    "    df = dataset[dataset['ships_from'] == grafo[i].nome]\n",
    "    \n",
    "    for j in range(len(df.index)):        \n",
    "        row = df.iloc[j]\n",
    "        \n",
    "        for k in range(48):\n",
    "            if row[k+10] == True:\n",
    "                valor = colunas[k]\n",
    "                \n",
    "                if valor[:9] == 'ships_to_':\n",
    "                    valor = valor[9:]\n",
    "                else:\n",
    "                    valor = valor[11:]\n",
    "                \n",
    "                objeto = encontra_objeto(valor,grafo)\n",
    "                if objeto not in grafo[i].vizinhos:\n",
    "                    grafo[i].vizinhos.append(objeto)\n",
    "                    "
   ]
  },
  {
   "cell_type": "code",
   "execution_count": 9,
   "metadata": {},
   "outputs": [
    {
     "name": "stdout",
     "output_type": "stream",
     "text": [
      "US : US WW\n",
      "NL : NL EU WW US\n",
      "FR : FR EU WW\n",
      "GB : GB EU WW\n",
      "CA : \n",
      "DE : DE EU WW US NL\n",
      "AU : AU\n",
      "EU : EU WW US\n",
      "ES : EU ES N. America WW\n",
      "N. America : \n",
      "BE : BE WW\n",
      "WW : \n",
      "SI : \n",
      "IT : WW IT\n",
      "DK : \n",
      "S. America : \n",
      "CH : \n",
      "BR : \n",
      "CZ : \n",
      "SE : \n",
      "CO : \n",
      "CN : \n",
      "PL : \n",
      "GR : \n"
     ]
    }
   ],
   "source": [
    "# Print dos nós e vizinhos\n",
    "for i in range(len(grafo)):\n",
    "    L = grafo[i].vizinhos\n",
    "    print(grafo[i].nome + \" : \" +' '.join([str(lst.nome) for lst in L]))\n",
    "    "
   ]
  },
  {
   "cell_type": "code",
   "execution_count": 18,
   "metadata": {},
   "outputs": [
    {
     "name": "stdout",
     "output_type": "stream",
     "text": [
      "{'US': ['US', 'WW'], 'NL': ['NL', 'EU', 'WW', 'US'], 'FR': ['FR', 'EU', 'WW'], 'GB': ['GB', 'EU', 'WW'], 'CA': [], 'DE': ['DE', 'EU', 'WW', 'US', 'NL'], 'AU': ['AU'], 'EU': ['EU', 'WW', 'US'], 'ES': ['EU', 'ES', 'N. America', 'WW'], 'N. America': [], 'BE': ['BE', 'WW'], 'WW': [], 'SI': [], 'IT': ['WW', 'IT'], 'DK': [], 'S. America': [], 'CH': [], 'BR': [], 'CZ': [], 'SE': [], 'CO': [], 'CN': [], 'PL': [], 'GR': []}\n"
     ]
    }
   ],
   "source": [
    "teste = {}\n",
    "for item in grafo:\n",
    "    teste[item.nome] = [vizinho.nome for vizinho in item.vizinhos]\n",
    "print(teste)"
   ]
  },
  {
   "cell_type": "code",
   "execution_count": 40,
   "metadata": {},
   "outputs": [],
   "source": [
    "def bfs(graph, root):\n",
    "    seen, queue = set([root]), collections.deque([root])\n",
    "    while queue:\n",
    "        vertex = queue.popleft()\n",
    "        visit(vertex)\n",
    "        for node in graph[vertex]:\n",
    "            if node not in seen:\n",
    "                seen.add(node)\n",
    "                queue.append(node)\n",
    "\n",
    "def visit(n):\n",
    "    print(n)\n"
   ]
  },
  {
   "cell_type": "code",
   "execution_count": 45,
   "metadata": {},
   "outputs": [
    {
     "name": "stdout",
     "output_type": "stream",
     "text": [
      "ES\n",
      "EU\n",
      "N. America\n",
      "WW\n",
      "US\n"
     ]
    }
   ],
   "source": [
    "bfs(teste, 'ES')"
   ]
  },
  {
   "cell_type": "code",
   "execution_count": 26,
   "metadata": {},
   "outputs": [
    {
     "ename": "SyntaxError",
     "evalue": "Missing parentheses in call to 'print'. Did you mean print(vertex)? (<ipython-input-26-60856b6f9991>, line 1)",
     "output_type": "error",
     "traceback": [
      "\u001b[0;36m  File \u001b[0;32m\"<ipython-input-26-60856b6f9991>\"\u001b[0;36m, line \u001b[0;32m1\u001b[0m\n\u001b[0;31m    print vertex\u001b[0m\n\u001b[0m               ^\u001b[0m\n\u001b[0;31mSyntaxError\u001b[0m\u001b[0;31m:\u001b[0m Missing parentheses in call to 'print'. Did you mean print(vertex)?\n"
     ]
    }
   ],
   "source": [
    "print vertex"
   ]
  },
  {
   "cell_type": "code",
   "execution_count": null,
   "metadata": {},
   "outputs": [],
   "source": []
  }
 ],
 "metadata": {
  "kernelspec": {
   "display_name": "Python 3",
   "language": "python",
   "name": "python3"
  },
  "language_info": {
   "codemirror_mode": {
    "name": "ipython",
    "version": 3
   },
   "file_extension": ".py",
   "mimetype": "text/x-python",
   "name": "python",
   "nbconvert_exporter": "python",
   "pygments_lexer": "ipython3",
   "version": "3.6.5"
  }
 },
 "nbformat": 4,
 "nbformat_minor": 2
}
